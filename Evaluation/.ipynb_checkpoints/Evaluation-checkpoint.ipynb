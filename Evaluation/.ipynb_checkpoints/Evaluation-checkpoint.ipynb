{
 "cells": [
  {
   "cell_type": "markdown",
   "id": "8129cf3b-43c6-44a8-b04e-aa244a2869cd",
   "metadata": {},
   "source": [
    "# Evaluation"
   ]
  },
  {
   "cell_type": "markdown",
   "id": "0baa91ab-cd03-456e-94f9-4bb372df8433",
   "metadata": {},
   "source": [
    "## Model LDA"
   ]
  },
  {
   "cell_type": "markdown",
   "id": "19737e22-bd8f-4384-a31e-535b474a926e",
   "metadata": {},
   "source": [
    "### Coherence Score"
   ]
  },
  {
   "cell_type": "code",
   "execution_count": null,
   "id": "bc441359-5183-4777-bca6-d6f0675f5c31",
   "metadata": {},
   "outputs": [],
   "source": [
    "from gensim.models.coherencemodel import CoherenceModel\n",
    "\n",
    "\n",
    "coherence_model = CoherenceModel(\n",
    "    model=lda_model,\n",
    "    texts=texts,\n",
    "    dictionary=dictionary,\n",
    "    coherence='c_v'\n",
    ")\n",
    "coherence = coherence_model.get_coherence()\n",
    "print(f\"Coherence Score: {coherence}\")"
   ]
  },
  {
   "cell_type": "markdown",
   "id": "81477de1-b9b6-4ed8-ae15-487b9630b03f",
   "metadata": {},
   "source": [
    "### Log-Vraisemblance (Perplexity)"
   ]
  },
  {
   "cell_type": "code",
   "execution_count": null,
   "id": "efd9314c-87a0-4537-a3c6-9702b3b7031d",
   "metadata": {},
   "outputs": [],
   "source": [
    "perplexity = lda_model.log_perplexity(corpus)\n",
    "print(f\"Log-perplexité: {perplexity}\")"
   ]
  },
  {
   "cell_type": "markdown",
   "id": "30a0e57d-b81e-47ab-9ca2-fb84631e5e74",
   "metadata": {},
   "source": [
    "### Model of clustering K-MEANS"
   ]
  },
  {
   "cell_type": "markdown",
   "id": "c31340b8-6bb9-4b91-b091-ec7480eb9e4b",
   "metadata": {},
   "source": [
    "### Silhouette Score"
   ]
  },
  {
   "cell_type": "code",
   "execution_count": null,
   "id": "176bb47b-e0b2-48ba-b55f-656a7616e9c9",
   "metadata": {},
   "outputs": [],
   "source": [
    "X_reduced = np.load('./X_reduced.npy')"
   ]
  },
  {
   "cell_type": "code",
   "execution_count": null,
   "id": "d2e498c1-91e6-49a4-a983-e0e053412f1e",
   "metadata": {},
   "outputs": [],
   "source": [
    "from sklearn.metrics import silhouette_score\n",
    "\n",
    "silhouette_avg = silhouette_score(X_reduced, df['kmeans_cluster'])\n",
    "print(f\"Silhouette Score: {silhouette_avg:.3f}\")"
   ]
  },
  {
   "cell_type": "markdown",
   "id": "4b2f3a4d-1748-4be4-ba59-0f684ca9861d",
   "metadata": {},
   "source": [
    "### Calinski-Harabasz Index"
   ]
  },
  {
   "cell_type": "code",
   "execution_count": null,
   "id": "02d74784-8228-4bad-b402-f46dd13d5deb",
   "metadata": {},
   "outputs": [],
   "source": [
    "from sklearn.metrics import calinski_harabasz_score\n",
    "\n",
    "ch_score = calinski_harabasz_score(X_reduced, df['kmeans_cluster'])\n",
    "print(f\"Calinski-Harabasz Score: {ch_score:.3f}\")"
   ]
  },
  {
   "cell_type": "markdown",
   "id": "ccc9fb59-627f-4e19-ad0c-4f8b1c24a8ad",
   "metadata": {},
   "source": [
    "### Davies-Bouldin Index"
   ]
  },
  {
   "cell_type": "code",
   "execution_count": null,
   "id": "9ad23dfd-3198-4066-9e30-1241dac16f99",
   "metadata": {},
   "outputs": [],
   "source": [
    "from sklearn.metrics import davies_bouldin_score\n",
    "\n",
    "db_score = davies_bouldin_score(X_reduced, df['kmeans_cluster'])\n",
    "print(f\"Davies-Bouldin Score: {db_score:.3f}\")"
   ]
  }
 ],
 "metadata": {
  "kernelspec": {
   "display_name": "Python 3 (ipykernel)",
   "language": "python",
   "name": "python3"
  },
  "language_info": {
   "codemirror_mode": {
    "name": "ipython",
    "version": 3
   },
   "file_extension": ".py",
   "mimetype": "text/x-python",
   "name": "python",
   "nbconvert_exporter": "python",
   "pygments_lexer": "ipython3",
   "version": "3.12.4"
  }
 },
 "nbformat": 4,
 "nbformat_minor": 5
}
