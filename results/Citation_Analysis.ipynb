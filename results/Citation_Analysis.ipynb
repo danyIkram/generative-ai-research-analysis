{
 "cells": [
  {
   "cell_type": "markdown",
   "id": "5bb1302f-744f-49fd-bc39-04d11899718c",
   "metadata": {},
   "source": [
    "# Citation analysis"
   ]
  },
  {
   "cell_type": "code",
   "execution_count": null,
   "id": "c2bd901f-0c9b-4cca-adec-07b075f1483a",
   "metadata": {},
   "outputs": [],
   "source": [
    "import pandas as pd\n",
    "import numpy as np\n",
    "import matplotlib.pyplot as plt\n",
    "import seaborn as sns\n",
    "from collections import Counter\n",
    "import networkx as nx\n",
    "\n",
    "df = pd.read_csv(\"preprocessing/processed_generative_ai_data_with_kmeans.csv\")"
   ]
  },
  {
   "cell_type": "code",
   "execution_count": null,
   "id": "737e5d52-7066-4326-8588-fcde83c8307c",
   "metadata": {},
   "outputs": [],
   "source": [
    "citation_stats = df['cited_by_count'].describe()\n",
    "print(\"Statistiques des citations:\")\n",
    "print(citation_stats)"
   ]
  },
  {
   "cell_type": "markdown",
   "id": "f60c95f9-b0eb-47b2-880b-aba65b9b1df5",
   "metadata": {},
   "source": [
    "## Identifying the most influential papers"
   ]
  },
  {
   "cell_type": "code",
   "execution_count": null,
   "id": "dc7e9aba-c59d-4060-8cb6-e01a7ed77746",
   "metadata": {},
   "outputs": [],
   "source": [
    "top_cited = df.nlargest(20, 'cited_by_count')\n",
    "print(\"\\nTop 20 des articles cités:\")\n",
    "for i, (_, paper) in enumerate(top_cited.iterrows(), 1):\n",
    "    print(f\"{i}. {paper['title']} ({paper['year']}) - Citations: {paper['cited_by_count']}\")"
   ]
  },
  {
   "cell_type": "markdown",
   "id": "dea24c93-8ab5-47ec-af70-74f4c19d95c4",
   "metadata": {},
   "source": [
    "## Article distribution based on citations"
   ]
  },
  {
   "cell_type": "code",
   "execution_count": null,
   "id": "83f1ca55-0c2a-4ba2-964f-2132c99bfc10",
   "metadata": {},
   "outputs": [],
   "source": [
    "plt.figure(figsize=(12, 8))\n",
    "\n",
    "plt.hist(df['cited_by_count'], bins=50, alpha=0.7, color='steelblue', log=True)\n",
    "plt.title('Distribution des nombres de citation(Log Scale)', fontsize=16)\n",
    "plt.xlabel('Nombre de citations (log scale)', fontsize=14)\n",
    "plt.ylabel('Nombre d\\'articles (log scale)', fontsize=14)\n",
    "plt.grid(True, alpha=0.3)\n",
    "plt.tight_layout()\n",
    "plt.savefig('figures/citation_distribution.png')\n",
    "plt.show()"
   ]
  },
  {
   "cell_type": "markdown",
   "id": "113256b4-745c-49e4-9f1c-fa0ef2f02045",
   "metadata": {},
   "source": [
    "## Distribution of citations by year"
   ]
  },
  {
   "cell_type": "code",
   "execution_count": null,
   "id": "9f363e9a-8376-41fd-8328-95ef787b3951",
   "metadata": {},
   "outputs": [],
   "source": [
    "plt.figure(figsize=(12, 8))\n",
    "citation_by_year = df.groupby('year')['cited_by_count'].mean()\n",
    "year_counts = df.groupby('year').size()\n",
    "\n",
    "plt.bar(citation_by_year.index, citation_by_year.values, alpha=0.7, color='darkorange')\n",
    "plt.title('Moyenne des citations d\\'un article par année de publication', fontsize=16)\n",
    "plt.xlabel('Année de publication', fontsize=14)\n",
    "plt.ylabel('Moyenne des citations', fontsize=14)\n",
    "plt.xticks(range(2019, 2025))\n",
    "plt.grid(True, axis='y', alpha=0.3)\n",
    "\n",
    "for year, avg_citations in zip(citation_by_year.index, citation_by_year.values):\n",
    "    count = year_counts[year]\n",
    "    plt.text(year, avg_citations + 5, f'n={count}', ha='center')\n",
    "\n",
    "plt.tight_layout()\n",
    "plt.savefig('figures/avg_citations_by_year.png')\n",
    "plt.show()"
   ]
  },
  {
   "cell_type": "markdown",
   "id": "759eef75-a659-4e8a-b065-8d48417f3c8b",
   "metadata": {},
   "source": [
    "## Distribution of citations by cluster"
   ]
  },
  {
   "cell_type": "code",
   "execution_count": null,
   "id": "356675b5-efd8-4209-bb8f-594ec5bdcd20",
   "metadata": {},
   "outputs": [],
   "source": [
    "plt.figure(figsize=(12, 8))\n",
    "citation_by_cluster = df.groupby('kmeans_cluster')['cited_by_count'].mean().sort_values(ascending=False)\n",
    "cluster_counts = df.groupby('kmeans_cluster').size()\n",
    "\n",
    "plt.bar(citation_by_cluster.index, citation_by_cluster.values, alpha=0.7, color='teal')\n",
    "plt.title('Moyenne des citations d\\'un article par Cluster', fontsize=16)\n",
    "plt.xlabel('Cluster de recherche', fontsize=14)\n",
    "plt.ylabel('Moyenne des citations', fontsize=14)\n",
    "plt.grid(True, axis='y', alpha=0.3)\n",
    "\n",
    "for cluster, avg_citations in zip(citation_by_cluster.index, citation_by_cluster.values):\n",
    "    count = cluster_counts[cluster]\n",
    "    plt.text(cluster, avg_citations + 5, f'n={count}', ha='center')\n",
    "\n",
    "plt.tight_layout()\n",
    "plt.savefig('figures/avg_citations_by_cluster.png')\n",
    "plt.show()"
   ]
  },
  {
   "cell_type": "markdown",
   "id": "a443f5c4-53f9-41c9-aa14-2846866b6de3",
   "metadata": {},
   "source": [
    "## Qualitative review of the 20 cited articles\""
   ]
  },
  {
   "cell_type": "code",
   "execution_count": null,
   "id": "875783d1-49fe-40c6-ab8e-aab43f24075c",
   "metadata": {},
   "outputs": [],
   "source": [
    "top_20_papers = df.nlargest(20, 'cited_by_count')"
   ]
  },
  {
   "cell_type": "markdown",
   "id": "b1a9b28a-cf3d-458c-be74-dce9b47645e0",
   "metadata": {},
   "source": [
    "## frequency of words in influential article titles"
   ]
  },
  {
   "cell_type": "code",
   "execution_count": null,
   "id": "c101ec91-3de1-4cd1-b596-4e182d8f81fd",
   "metadata": {},
   "outputs": [],
   "source": [
    "from sklearn.feature_extraction.text import CountVectorizer\n",
    "\n",
    "vectorizer = CountVectorizer(stop_words='english')\n",
    "X = vectorizer.fit_transform(top_20_papers['title'])\n",
    "words = vectorizer.get_feature_names_out()\n",
    "count_values = X.toarray().sum(axis=0)\n",
    "\n",
    "top_words = [(word, count) for word, count in zip(words, count_values)]\n",
    "top_words.sort(key=lambda x: x[1], reverse=True)\n",
    "top_title_words = top_words[:15]"
   ]
  },
  {
   "cell_type": "code",
   "execution_count": null,
   "id": "20bf3785-f6ec-485f-a23c-a54ec56518b4",
   "metadata": {},
   "outputs": [],
   "source": [
    "print(\"\\nLes mots fréquents dans les titres 20 des articles cités:\")\n",
    "for word, count in top_title_words:\n",
    "    print(f\"{word}: {count}\")"
   ]
  }
 ],
 "metadata": {
  "kernelspec": {
   "display_name": "Python 3 (ipykernel)",
   "language": "python",
   "name": "python3"
  },
  "language_info": {
   "codemirror_mode": {
    "name": "ipython",
    "version": 3
   },
   "file_extension": ".py",
   "mimetype": "text/x-python",
   "name": "python",
   "nbconvert_exporter": "python",
   "pygments_lexer": "ipython3",
   "version": "3.12.4"
  }
 },
 "nbformat": 4,
 "nbformat_minor": 5
}
