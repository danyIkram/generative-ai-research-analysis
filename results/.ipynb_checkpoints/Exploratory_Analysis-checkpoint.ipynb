{
 "cells": [
  {
   "cell_type": "markdown",
   "id": "fba271a1-7b2f-4387-bf2c-2a685088ac7b",
   "metadata": {},
   "source": [
    "# Exploratory Analysis"
   ]
  },
  {
   "cell_type": "markdown",
   "id": "72e051b1-ac00-47c2-8db8-a15349b96808",
   "metadata": {},
   "source": [
    "## Publication growth over time"
   ]
  },
  {
   "cell_type": "code",
   "execution_count": null,
   "id": "b6ba9dab-f1dd-4f20-a4cf-cfda398d8271",
   "metadata": {},
   "outputs": [],
   "source": [
    "import matplotlib.pyplot as plt\n",
    "import seaborn as sns\n",
    "\n",
    "plt.figure(figsize=(10, 6))\n",
    "sns.countplot(data=df, x='year', color='skyblue')\n",
    "plt.title(\"Nombre de publications par année\")\n",
    "plt.xlabel(\"Année\")\n",
    "plt.ylabel(\"Nombre d’articles\")\n",
    "plt.xticks(rotation=45)\n",
    "plt.grid(True, linestyle='--', alpha=0.6)\n",
    "plt.tight_layout()\n",
    "plt.show()"
   ]
  },
  {
   "cell_type": "markdown",
   "id": "0c453f5a-73db-49c7-940e-143b4e7226c8",
   "metadata": {},
   "source": [
    "## Keyword frequency by year"
   ]
  },
  {
   "cell_type": "code",
   "execution_count": null,
   "id": "a3d5aa86-b1d6-43fe-a1b8-6aa008a22475",
   "metadata": {},
   "outputs": [],
   "source": [
    "from sklearn.feature_extraction.text import CountVectorizer\n",
    "\n",
    "# Créer un dictionnaire {année: texte nettoyé}\n",
    "yearly_text = df.groupby('year')['cleaned_text'].apply(lambda x: ' '.join(x.dropna()))\n",
    "\n",
    "# Vectorisation par année\n",
    "vectorizer = CountVectorizer(stop_words='english', max_features=500)\n",
    "yearly_counts = {}\n",
    "\n",
    "for year, text in yearly_text.items():\n",
    "    X = vectorizer.fit_transform([text])\n",
    "    freq = X.toarray()[0]\n",
    "    words = vectorizer.get_feature_names_out()\n",
    "    yearly_counts[year] = sorted(zip(words, freq), key=lambda x: -x[1])[:20]\n",
    "\n",
    "# Afficher pour chaque année\n",
    "for year, words in yearly_counts.items():\n",
    "    print(f\"\\nTop mots en {year}:\")\n",
    "    for word, count in words:\n",
    "        print(f\"  {word}: {count}\")"
   ]
  },
  {
   "cell_type": "markdown",
   "id": "855bbe2e-01f7-4ebf-a429-7556bfdc4c7f",
   "metadata": {},
   "source": [
    "## Bigrams and Trigrams"
   ]
  },
  {
   "cell_type": "code",
   "execution_count": null,
   "id": "0081935e-785b-44b2-bed3-24c6949bf834",
   "metadata": {},
   "outputs": [],
   "source": [
    "from sklearn.feature_extraction.text import CountVectorizer\n",
    "\n",
    "vectorizer = CountVectorizer(ngram_range=(2, 3), stop_words='english', max_features=20)\n",
    "X = vectorizer.fit_transform(df['cleaned_text'].fillna(\"\"))\n",
    "freq = X.sum(axis=0)\n",
    "bigrams = [(word, freq[0, idx]) for word, idx in vectorizer.vocabulary_.items()]\n",
    "bigrams.sort(key=lambda x: -x[1])\n",
    "\n",
    "print(\"Bigrams/trigrams les plus fréquents :\")\n",
    "for phrase, count in bigrams[:20]:\n",
    "    print(f\"{phrase}: {count}\")"
   ]
  },
  {
   "cell_type": "markdown",
   "id": "8c2963d8-aa32-451f-b9e4-eecdf439f25c",
   "metadata": {},
   "source": [
    "## Top concepts"
   ]
  },
  {
   "cell_type": "code",
   "execution_count": null,
   "id": "0e437abd-b33b-4930-bf22-1c12b15023be",
   "metadata": {},
   "outputs": [],
   "source": [
    "concept_list = []\n",
    "for concepts in df['concepts'].dropna():\n",
    "    concept_list.extend([c.strip() for c in concepts.split(';') if c.strip() != \"\"])\n",
    "\n",
    "from collections import Counter\n",
    "\n",
    "top_concepts = Counter(concept_list).most_common(20)\n",
    "\n",
    "print(\"Top concepts extraits :\")\n",
    "for concept, count in top_concepts:\n",
    "    print(f\"{concept}: {count}\")"
   ]
  },
  {
   "cell_type": "markdown",
   "id": "daee3940-7b8a-4df8-82ab-7dc2a40e2159",
   "metadata": {},
   "source": [
    "## Top Countries"
   ]
  },
  {
   "cell_type": "code",
   "execution_count": null,
   "id": "71f6c316-a61a-4279-914b-7ff36c38b7c0",
   "metadata": {},
   "outputs": [],
   "source": [
    "country_list = []\n",
    "for countries in df['countries'].dropna():\n",
    "    country_list.extend([c.strip() for c in countries.split(';') if c.strip() != \"\"])\n",
    "\n",
    "top_countries = Counter(country_list).most_common(10)\n",
    "\n",
    "print(\"Top pays représentés :\")\n",
    "for country, count in top_countries:\n",
    "    print(f\"{country}: {count}\")"
   ]
  },
  {
   "cell_type": "markdown",
   "id": "a3c91f26-a8ce-4467-bf5b-a0e367049fe9",
   "metadata": {},
   "source": [
    "# word cloud by period"
   ]
  },
  {
   "cell_type": "markdown",
   "id": "75f4b0bd-b37d-4a3f-a914-f0d56440031d",
   "metadata": {},
   "source": [
    "### Global"
   ]
  },
  {
   "cell_type": "code",
   "execution_count": null,
   "id": "2a073be3-f516-4cd2-b9ff-e67ca28afce2",
   "metadata": {},
   "outputs": [],
   "source": [
    "from wordcloud import WordCloud\n",
    "import matplotlib.pyplot as plt\n",
    "\n",
    "text_all = \" \".join(df['cleaned_text'].dropna().tolist())\n",
    "wordcloud = WordCloud(width=800, height=400, background_color='white').generate(text_all)\n",
    "\n",
    "plt.figure(figsize=(10, 5))\n",
    "plt.imshow(wordcloud, interpolation='bilinear')\n",
    "plt.axis(\"off\")\n",
    "plt.title(\"Nuage de mots global\")\n",
    "plt.show()"
   ]
  },
  {
   "cell_type": "markdown",
   "id": "3fc002e3-b061-48e6-aed9-ed5787ba1c25",
   "metadata": {},
   "source": [
    "### Per year"
   ]
  },
  {
   "cell_type": "code",
   "execution_count": null,
   "id": "8fc773c8-f892-4f02-81bc-fe9e4ed81da9",
   "metadata": {},
   "outputs": [],
   "source": [
    "import matplotlib.pyplot as plt\n",
    "\n",
    "years = df['year'].unique()\n",
    "for year in years:\n",
    "    subset = df[df['year'] == year]\n",
    "    if len(subset) == 0:\n",
    "        continue\n",
    "    text_year = ' '.join(subset['cleaned_text'].dropna())\n",
    "    wordcloud = WordCloud(width=800, height=400, background_color='white').generate(text_year)\n",
    "    \n",
    "    plt.figure(figsize=(10, 4))\n",
    "    plt.imshow(wordcloud, interpolation='bilinear')\n",
    "    plt.title(f\"Nuage de mots - {year}\")\n",
    "    plt.axis(\"off\")\n",
    "    plt.tight_layout()\n",
    "    plt.show()"
   ]
  }
 ],
 "metadata": {
  "kernelspec": {
   "display_name": "Python 3 (ipykernel)",
   "language": "python",
   "name": "python3"
  },
  "language_info": {
   "codemirror_mode": {
    "name": "ipython",
    "version": 3
   },
   "file_extension": ".py",
   "mimetype": "text/x-python",
   "name": "python",
   "nbconvert_exporter": "python",
   "pygments_lexer": "ipython3",
   "version": "3.12.4"
  }
 },
 "nbformat": 4,
 "nbformat_minor": 5
}
