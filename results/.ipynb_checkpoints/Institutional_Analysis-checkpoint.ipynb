{
 "cells": [
  {
   "cell_type": "markdown",
   "id": "e65f4e48-e16f-431d-9b86-74c18ccb15da",
   "metadata": {},
   "source": [
    "# Institutional Analysis"
   ]
  },
  {
   "cell_type": "code",
   "execution_count": null,
   "id": "9a8a3196-d132-436d-8e61-6a8ae8e12772",
   "metadata": {},
   "outputs": [],
   "source": [
    "def extract_institutions(inst_str):\n",
    "    if pd.isna(inst_str) or inst_str == '':\n",
    "        return []\n",
    "    return [i.strip() for i in str(inst_str).split(';') if i.strip() != '']\n",
    "\n",
    "\n",
    "all_institutions = []\n",
    "for institutions in df['institutions'].dropna():\n",
    "    all_institutions.extend(extract_institutions(institutions))"
   ]
  },
  {
   "cell_type": "markdown",
   "id": "503fd8f7-3fce-4c17-82ac-6abcbb38a027",
   "metadata": {},
   "source": [
    "## The top 20 institutions contributing to research on generative AI"
   ]
  },
  {
   "cell_type": "code",
   "execution_count": null,
   "id": "5e633554-fb10-4c5c-9277-174ae8e970a8",
   "metadata": {},
   "outputs": [],
   "source": [
    "institution_counts = Counter(all_institutions).most_common(20)\n",
    "inst_df = pd.DataFrame(institution_counts, columns=['institution', 'count'])"
   ]
  },
  {
   "cell_type": "code",
   "execution_count": null,
   "id": "0e0a56c5-7f99-4d6f-8a75-4349972ffd68",
   "metadata": {},
   "outputs": [],
   "source": [
    "plt.figure(figsize=(14, 10))\n",
    "sns.barplot(x='count', y='institution', data=inst_df, palette='magma')\n",
    "plt.title('Top 20 Institutions en recherches sur IA Générative', fontsize=16)\n",
    "plt.xlabel('Nombre d\\'articles', fontsize=14)\n",
    "plt.ylabel('Institution', fontsize=14)\n",
    "plt.tight_layout()\n",
    "plt.savefig('figures/top_institutions.png')\n",
    "plt.show()"
   ]
  },
  {
   "cell_type": "markdown",
   "id": "9a2744e3-2261-4bbe-8348-3839e8176da2",
   "metadata": {},
   "source": [
    "## Cluster distribution per institution"
   ]
  },
  {
   "cell_type": "code",
   "execution_count": null,
   "id": "383d377d-2fed-436a-a672-5a5ffc198833",
   "metadata": {},
   "outputs": [],
   "source": [
    "inst_cluster_data = []\n",
    "for _, row in df.dropna(subset=['institutions', 'kmeans_cluster']).iterrows():\n",
    "    cluster = row['kmeans_cluster']\n",
    "    institutions = extract_institutions(row['institutions'])\n",
    "    for inst in institutions:\n",
    "        inst_cluster_data.append({'institution': inst, 'cluster': cluster})\n",
    "\n",
    "inst_cluster_df = pd.DataFrame(inst_cluster_data)"
   ]
  },
  {
   "cell_type": "markdown",
   "id": "6f630236-bf4d-4dd5-a065-9aab52486a28",
   "metadata": {},
   "source": [
    "## Top 10 leading institutions"
   ]
  },
  {
   "cell_type": "code",
   "execution_count": null,
   "id": "d6915e9d-1500-4537-bf99-2918ffb37ed6",
   "metadata": {},
   "outputs": [],
   "source": [
    "top10_institutions = [i[0] for i in Counter(all_institutions).most_common(10)]\n",
    "top10_inst_cluster = inst_cluster_df[inst_cluster_df['institution'].isin(top10_institutions)]"
   ]
  },
  {
   "cell_type": "markdown",
   "id": "1b9ebc41-6d9b-4884-b205-f10a53d2ba74",
   "metadata": {},
   "source": [
    "## Heatmap : institutions vs clusters"
   ]
  },
  {
   "cell_type": "code",
   "execution_count": null,
   "id": "098950b9-2165-4787-9f14-3d63a1df0d5f",
   "metadata": {},
   "outputs": [],
   "source": [
    "plt.figure(figsize=(14, 10))\n",
    "inst_cluster_pivot = pd.crosstab(top10_inst_cluster['institution'], top10_inst_cluster['cluster'])\n",
    "sns.heatmap(inst_cluster_pivot, cmap='YlGnBu', annot=True, fmt='d', linewidths=.5)\n",
    "plt.title('Les tendances de recherches des tops 10 institutions', fontsize=16)\n",
    "plt.xlabel('Cluster', fontsize=14)\n",
    "plt.ylabel('Institution', fontsize=14)\n",
    "plt.tight_layout()\n",
    "plt.savefig('figures/institution_cluster_heatmap.png')\n",
    "plt.show()"
   ]
  },
  {
   "cell_type": "markdown",
   "id": "056bfb73-00fe-465d-a40f-da01f021f72d",
   "metadata": {},
   "source": [
    "## WordCloud of institutions"
   ]
  },
  {
   "cell_type": "code",
   "execution_count": null,
   "id": "f303216c-e8bd-4090-9a43-ee6373c34ab9",
   "metadata": {},
   "outputs": [],
   "source": [
    "inst_text = ' '.join(all_institutions)\n",
    "wordcloud = WordCloud(width=800, height=400, \n",
    "                     background_color='white',\n",
    "                     max_words=100,\n",
    "                     contour_width=3,\n",
    "                     contour_color='steelblue').generate(inst_text)\n",
    "\n",
    "plt.figure(figsize=(16, 8))\n",
    "plt.imshow(wordcloud, interpolation='bilinear')\n",
    "plt.axis('off')\n",
    "plt.title('WordCloud des institutions de recherches', fontsize=20)\n",
    "plt.tight_layout()\n",
    "plt.savefig('figures/institution_wordcloud.png')\n",
    "plt.show()"
   ]
  }
 ],
 "metadata": {
  "kernelspec": {
   "display_name": "Python 3 (ipykernel)",
   "language": "python",
   "name": "python3"
  },
  "language_info": {
   "codemirror_mode": {
    "name": "ipython",
    "version": 3
   },
   "file_extension": ".py",
   "mimetype": "text/x-python",
   "name": "python",
   "nbconvert_exporter": "python",
   "pygments_lexer": "ipython3",
   "version": "3.12.4"
  }
 },
 "nbformat": 4,
 "nbformat_minor": 5
}
