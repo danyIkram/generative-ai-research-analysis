{
 "cells": [
  {
   "cell_type": "markdown",
   "id": "3797b3a7-1424-44d2-bfe6-d41b92b93072",
   "metadata": {},
   "source": [
    "# Author Analysis"
   ]
  },
  {
   "cell_type": "code",
   "execution_count": null,
   "id": "2e348ece-5092-4fa3-a349-b11f5bc343ae",
   "metadata": {},
   "outputs": [],
   "source": [
    "import networkx as nx\n",
    "import matplotlib.pyplot as plt\n",
    "from collections import Counter\n",
    "import community as community_louvain\n",
    "import numpy as np\n",
    "\n",
    "\n",
    "df = pd.read_csv(\"preprocessing/processed_generative_ai_data_with_kmeans.csv\")\n",
    "\n",
    "\n",
    "def build_author_network(df, min_papers=2):\n",
    "    all_authors = []\n",
    "    for authors_str in df['authors'].dropna():\n",
    "        author_list = [a.strip() for a in authors_str.split(';') if a.strip()]\n",
    "        all_authors.extend(author_list)\n",
    "    \n",
    "    author_counts = Counter(all_authors)\n",
    "    prolific_authors = {author for author, count in author_counts.items() if count >= min_papers}\n",
    "    \n",
    "    G = nx.Graph()\n",
    "    \n",
    "    for _, row in df.dropna(subset=['authors']).iterrows():\n",
    "        authors = [a.strip() for a in row['authors'].split(';') if a.strip()]\n",
    "        filtered_authors = [a for a in authors if a in prolific_authors]\n",
    "        \n",
    "\n",
    "        for i, author1 in enumerate(filtered_authors):\n",
    "            for author2 in filtered_authors[i+1:]:\n",
    "                if G.has_edge(author1, author2):\n",
    "                    G[author1][author2]['weight'] += 1\n",
    "                else:\n",
    "                    G.add_edge(author1, author2, weight=1)\n",
    "    \n",
    "\n",
    "    G.remove_nodes_from(list(nx.isolates(G)))\n",
    "    \n",
    "    return G\n"
   ]
  },
  {
   "cell_type": "markdown",
   "id": "afa3423b-2671-408c-ac70-3fd9c04a3661",
   "metadata": {},
   "source": [
    "## Network of authors with min 2 articles"
   ]
  },
  {
   "cell_type": "code",
   "execution_count": null,
   "id": "80a1ee65-f794-40f2-98f8-6f37718fa73f",
   "metadata": {},
   "outputs": [],
   "source": [
    "author_network = build_author_network(df, min_papers=2)\n",
    "print(f\"Réseau d'auteur : {author_network.number_of_nodes()} noeuds et {author_network.number_of_edges()} edges\")"
   ]
  },
  {
   "cell_type": "markdown",
   "id": "e008dad4-4c6c-40c7-be8b-d3d26581db99",
   "metadata": {},
   "source": [
    "## Communities Detection"
   ]
  },
  {
   "cell_type": "code",
   "execution_count": null,
   "id": "53fc5c30-7765-4e8c-afb6-7af859cfd5ed",
   "metadata": {},
   "outputs": [],
   "source": [
    "communities = community_louvain.best_partition(author_network)\n",
    "nx.set_node_attributes(author_network, communities, 'community')"
   ]
  },
  {
   "cell_type": "markdown",
   "id": "7435e24a-eccc-436c-b100-09bb0b2e23b1",
   "metadata": {},
   "source": [
    "## Top authors based on centrality"
   ]
  },
  {
   "cell_type": "code",
   "execution_count": null,
   "id": "d14064d5-7a08-40d3-bc23-9e8b79cd8721",
   "metadata": {},
   "outputs": [],
   "source": [
    "degree_centrality = nx.degree_centrality(author_network)\n",
    "nx.set_node_attributes(author_network, degree_centrality, 'centrality')\n",
    "\n",
    "top_authors = sorted([(author, centrality) for author, centrality in degree_centrality.items()], \n",
    "                    key=lambda x: x[1], reverse=True)[:20]\n",
    "print(\"\\nTop 20 des auteurs centraux dans le réseau de collaboration:\")\n",
    "for i, (author, centrality) in enumerate(top_authors, 1):\n",
    "    community_id = communities[author]\n",
    "    print(f\"{i}. {author} - Centralité: {centrality:.4f} - Communauté: {community_id}\")"
   ]
  },
  {
   "cell_type": "markdown",
   "id": "8eac0980-fd9f-4e4c-a253-2b252bd16227",
   "metadata": {},
   "source": [
    "## Largest research communities"
   ]
  },
  {
   "cell_type": "code",
   "execution_count": null,
   "id": "9db38955-8646-4293-8cfc-c348597ee4dd",
   "metadata": {},
   "outputs": [],
   "source": [
    "community_counts = Counter(communities.values())\n",
    "largest_communities = community_counts.most_common(5)\n",
    "print(\"\\nLes communautés d\\'auteurs les plus larges:\")\n",
    "for community_id, size in largest_communities:\n",
    "    print(f\"Communauté {community_id}: {size} auteurs\")\n"
   ]
  },
  {
   "cell_type": "code",
   "execution_count": null,
   "id": "5562491b-2fcd-489b-93e2-24e8d9622caa",
   "metadata": {},
   "outputs": [],
   "source": [
    "plt.figure(figsize=(20, 20))\n",
    "\n",
    "if not nx.is_connected(author_network):\n",
    "    largest_cc = max(nx.connected_components(author_network), key=len)\n",
    "    G_vis = author_network.subgraph(largest_cc)\n",
    "else:\n",
    "    G_vis = author_network\n",
    "\n",
    "pos = nx.spring_layout(G_vis, k=0.3, iterations=50, seed=42)\n",
    "\n",
    "node_sizes = [4000 * G_vis.nodes[node]['centrality'] + 20 for node in G_vis.nodes]\n",
    "\n",
    "edge_widths = [0.5 * G_vis[u][v]['weight'] for u, v in G_vis.edges]\n",
    "\n",
    "node_colors = [communities[node] for node in G_vis.nodes]\n",
    "\n",
    "plt.figure(figsize=(24, 24))\n",
    "nx.draw_networkx(\n",
    "    G_vis,\n",
    "    pos=pos,\n",
    "    with_labels=True,\n",
    "    node_size=node_sizes,\n",
    "    node_color=node_colors,\n",
    "    width=edge_widths,\n",
    "    edge_color='lightgrey',\n",
    "    font_size=10,\n",
    "    font_weight='bold',\n",
    "    alpha=0.8,\n",
    "    cmap=plt.cm.rainbow\n",
    ")\n",
    "\n",
    "plt.axis('off')\n",
    "plt.title('Réseau de collaboration des auteurs en recherches sur IA Générative\\n(Taille du Noeud = Centralité, La largeur des edges = fréquence de collaboration, couleur = communauté)', fontsize=20)\n",
    "plt.tight_layout()\n",
    "plt.savefig('figures/author_network.png', dpi=300, bbox_inches='tight')\n",
    "plt.show()"
   ]
  },
  {
   "cell_type": "markdown",
   "id": "26440b49-b6a0-451f-8e1c-6cb82a31f5e4",
   "metadata": {},
   "source": [
    "## Research areas for each community"
   ]
  },
  {
   "cell_type": "code",
   "execution_count": null,
   "id": "d424c4a6-a31b-43f4-9320-53f3d29fc11f",
   "metadata": {},
   "outputs": [],
   "source": [
    "plt.figure(figsize=(24, 18))\n",
    "\n",
    "for i, (community_id, _) in enumerate(largest_communities[:4], 1):\n",
    "    \n",
    "    community_nodes = [node for node in G_vis.nodes if communities[node] == community_id]\n",
    "    community_graph = G_vis.subgraph(community_nodes)\n",
    "    \n",
    "    \n",
    "    if community_graph.number_of_nodes() > 5:\n",
    "        plt.subplot(2, 2, i)\n",
    "        \n",
    "        \n",
    "        comm_pos = nx.spring_layout(community_graph, k=0.3, seed=42)\n",
    "        \n",
    "        \n",
    "        comm_node_sizes = [3000 * community_graph.nodes[node]['centrality'] + 100 for node in community_graph.nodes]\n",
    "        \n",
    "        \n",
    "        comm_edge_widths = [G_vis[u][v]['weight'] for u, v in community_graph.edges]\n",
    "        \n",
    "        \n",
    "        nx.draw_networkx(\n",
    "            community_graph,\n",
    "            pos=comm_pos,\n",
    "            with_labels=True,\n",
    "            node_size=comm_node_sizes,\n",
    "            node_color='lightblue',\n",
    "            width=comm_edge_widths,\n",
    "            edge_color='grey',\n",
    "            font_size=12,\n",
    "            font_weight='bold',\n",
    "            alpha=0.8\n",
    "        )\n",
    "        \n",
    "        plt.title(f'Communauté de recherches {community_id}', fontsize=16)\n",
    "        plt.axis('off')\n",
    "\n",
    "plt.tight_layout()\n",
    "plt.savefig('figures/author_communities.png', dpi=300, bbox_inches='tight')\n",
    "plt.show()"
   ]
  }
 ],
 "metadata": {
  "kernelspec": {
   "display_name": "Python 3 (ipykernel)",
   "language": "python",
   "name": "python3"
  },
  "language_info": {
   "codemirror_mode": {
    "name": "ipython",
    "version": 3
   },
   "file_extension": ".py",
   "mimetype": "text/x-python",
   "name": "python",
   "nbconvert_exporter": "python",
   "pygments_lexer": "ipython3",
   "version": "3.12.4"
  }
 },
 "nbformat": 4,
 "nbformat_minor": 5
}
