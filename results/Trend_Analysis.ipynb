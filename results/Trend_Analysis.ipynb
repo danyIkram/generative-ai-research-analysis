{
 "cells": [
  {
   "cell_type": "markdown",
   "id": "ea3c73ec-8692-410f-ad87-d2b39b83b6d1",
   "metadata": {},
   "source": [
    "# Trend Analysis"
   ]
  },
  {
   "cell_type": "markdown",
   "id": "d6287a8f-2279-46e9-9228-83e1522e9101",
   "metadata": {},
   "source": [
    "## Topic Modeling - LDA"
   ]
  },
  {
   "cell_type": "code",
   "execution_count": null,
   "id": "ffb68332-ab87-4713-90b2-b4b6940ae989",
   "metadata": {},
   "outputs": [],
   "source": [
    "from gensim.utils import simple_preprocess\n",
    "texts = [simple_preprocess(text, deacc=True) for text in df['cleaned_text']]\n",
    "print(\"Exemple de tokenisation :\", texts[0][:10])"
   ]
  },
  {
   "cell_type": "code",
   "execution_count": null,
   "id": "3b7c8cc2-f317-4494-baca-88f04a40e1f8",
   "metadata": {},
   "outputs": [],
   "source": [
    "from gensim.corpora import Dictionary\n",
    "dictionary = Dictionary(texts)\n",
    "dictionary.filter_extremes(no_below=5, no_above=0.8)\n",
    "corpus = [dictionary.doc2bow(text) for text in texts]"
   ]
  },
  {
   "cell_type": "code",
   "execution_count": null,
   "id": "1d85f3b9-cd18-495e-b64b-94e9015199ed",
   "metadata": {},
   "outputs": [],
   "source": [
    "from gensim.models.ldamodel import LdaModel\n",
    "num_topics = 6\n",
    "lda_model = LdaModel(\n",
    "    corpus=corpus,\n",
    "    id2word=dictionary,\n",
    "    num_topics=num_topics,\n",
    "    random_state=42,\n",
    "    update_every=1,\n",
    "    chunksize=100,\n",
    "    passes=10,\n",
    "    alpha='auto',\n",
    "    per_word_topics=True\n",
    ")"
   ]
  },
  {
   "cell_type": "code",
   "execution_count": null,
   "id": "08f854d2-52e5-4992-9ad8-06e525158ec9",
   "metadata": {},
   "outputs": [],
   "source": [
    "topics = lda_model.print_topics(num_words=10)\n",
    "for idx, topic in topics:\n",
    "    print(f\"Topic {idx}:\\n{topic}\\n\")"
   ]
  },
  {
   "cell_type": "markdown",
   "id": "dfeb2b19-d7cb-41c1-b271-2135850cdcd4",
   "metadata": {},
   "source": [
    "## Visualization LDA"
   ]
  },
  {
   "cell_type": "code",
   "execution_count": null,
   "id": "5e07a89d-869f-485d-a188-18ef247feb53",
   "metadata": {},
   "outputs": [],
   "source": [
    "import gensim\n",
    "import pyLDAvis\n",
    "import pyLDAvis.gensim_models as gensimvis\n",
    "\n",
    "lda_vis = gensimvis.prepare(lda_model, corpus, dictionary)\n",
    "pyLDAvis.save_html(lda_vis, 'figures/lda_visualization.html')\n",
    "\n",
    "topic_descriptions = {\n",
    "    0: {\n",
    "        \"name\": \"Medical and Structural Applications\",\n",
    "        \"description\": \"Research focused on multimodal applications in medical imaging, patient care, and materials with structure-property relationships.\",\n",
    "        \"keywords\": [\"multimodal\", \"editing\", \"design\", \"patient\", \"medical\", \"structure\", \"property\", \"imaging\", \"screening\",\"ranging\"],\n",
    "        \"trends\": \"Shows increasing interest in medical applications of generative AI, particularly for diagnostics and structural design.\"\n",
    "    },\n",
    "    1: {\n",
    "        \"name\": \"Generative AI Systems and Research\",\n",
    "        \"description\": \"Broad research on generative AI systems, tackling intelligence challenges and artificial intelligence applications.\",\n",
    "        \"keywords\": [\"generative\", \"system\", \"research\", \"intelligence\", \"challenge\", \"paper\", \"application\", \"artificial\", \"technology\", \"tool\"],\n",
    "        \"trends\": \"Core theme showing the general expansion of generative AI research across domains.\"\n",
    "    },\n",
    "    2: {\n",
    "        \"name\": \"Image Generation and Diffusion Models\",\n",
    "        \"description\": \"Research on generative image models, particularly diffusion models and text-to-image generation technologies.\",\n",
    "        \"keywords\": [\"image\", \"generative\", \"model\", \"diffusion\", \"text\", \"generation\", \"method\", \"generated\", \"quality\", \"synthetic\"],\n",
    "        \"trends\": \"Became especially prominent after 2021 with the rise of diffusion models like DALL-E and Stable Diffusion.\"\n",
    "    },\n",
    "    3: {\n",
    "        \"name\": \"Large Language Models and Natural Language Generation\",\n",
    "        \"description\": \"Work on large language models (LLMs), language tasks, human-AI interaction, and prompt engineering.\",\n",
    "        \"keywords\": [\"model\", \"language\", \"llm\", \"large\", \"task\", \"human\", \"generation\", \"agent\", \"prompt\", \"gpt\"],\n",
    "        \"trends\": \"Exploded in popularity from 2022 onwards with the release of ChatGPT and subsequent LLMs.\"\n",
    "    },\n",
    "    4: {\n",
    "        \"name\": \"Neural Networks and Learning Methods\",\n",
    "        \"description\": \"Fundamental research on neural network architectures, learning methods, and training approaches.\",\n",
    "        \"keywords\": [\"model\", \"data\", \"learning\", \"network\", \"based\", \"training\", \"method\", \"approach\", \"task\", \"algorithm\"],\n",
    "        \"trends\": \"More prevalent in earlier years (2019-2021), representing foundational research that enabled later breakthroughs.\"\n",
    "    },\n",
    "    5: {\n",
    "        \"name\": \"ChatGPT and Human-AI Interaction Studies\",\n",
    "        \"description\": \"Research specifically studying ChatGPT usage, user experience, and social implications of generative AI.\",\n",
    "        \"keywords\": [\"study\", \"chatgpt\", \"user\", \"generated\", \"human\", \"analysis\", \"social\", \"use\", \"using\", \"used\"],\n",
    "        \"trends\": \"Emerged strongly in 2023 and 2024, reflecting the societal impact of accessible generative AI tools.\"\n",
    "    }\n",
    "}\n",
    "\n",
    "print(\"\\nEnhanced LDA Topic Interpretations:\")\n",
    "for topic_id, details in topic_descriptions.items():\n",
    "    print(f\"\\nTopic {topic_id}: {details['name']}\")\n",
    "    print(f\"Description: {details['description']}\")\n",
    "    print(f\"Keywords: {', '.join(details['keywords'])}\")\n",
    "    print(f\"Trends: {details['trends']}\")\n",
    "\n",
    "topic_evolution = df[['year', 'dominant_topic']].groupby(['year']).agg(lambda x: x.value_counts().index[0])\n",
    "print(\"\\nDominant topic by year:\")\n",
    "for year, topic in topic_evolution.iterrows():\n",
    "    topic_id = topic['dominant_topic']\n",
    "    print(f\"{year}: Topic {topic_id} - {topic_descriptions[topic_id]['name']}\")\n"
   ]
  },
  {
   "cell_type": "code",
   "execution_count": null,
   "id": "8c35939a-e0f3-4c6c-924b-00a2dbb97de6",
   "metadata": {},
   "outputs": [],
   "source": [
    "def get_dominant_topic(model, corpus):\n",
    "    topics = []\n",
    "    for doc in corpus:\n",
    "        topic_dist = model.get_document_topics(doc)\n",
    "        topic_id, _ = max(topic_dist, key=lambda x: x[1])\n",
    "        topics.append(topic_id)\n",
    "    return topics\n",
    "\n",
    "df['dominant_topic'] = get_dominant_topic(lda_model, corpus)\n",
    "\n",
    "topic_evolution = df.groupby(['year', 'dominant_topic']).size().unstack(fill_value=0)\n",
    "\n",
    "topic_evolution_norm = topic_evolution.div(topic_evolution.sum(axis=1), axis=0)\n",
    "\n",
    "topic_evolution_norm.plot(kind='line', title='Évolution des topics dominants par année')"
   ]
  },
  {
   "cell_type": "markdown",
   "id": "201b70bf-f67c-407d-befe-3cda1792ad79",
   "metadata": {},
   "source": [
    "## BERTopic"
   ]
  },
  {
   "cell_type": "code",
   "execution_count": null,
   "id": "dc298d6f-d535-4ccd-a48b-6d46c60b8dc9",
   "metadata": {},
   "outputs": [],
   "source": [
    "import pandas as pd\n",
    "from bertopic import BERTopic\n",
    "from sentence_transformers import SentenceTransformer\n",
    "from sklearn.feature_extraction.text import CountVectorizer\n",
    "import matplotlib.pyplot as plt\n",
    "\n",
    "\n",
    "df = pd.read_csv(\"preprocessing/processed_generative_ai_data_with_kmeans.csv\")\n"
   ]
  },
  {
   "cell_type": "code",
   "execution_count": null,
   "id": "ca0b7a80-8c8e-4d49-9031-5914f4154f60",
   "metadata": {},
   "outputs": [],
   "source": [
    "df_clean = df[~df['cleaned_text'].isna()].reset_index(drop=True)\n",
    "docs = df_clean['cleaned_text'].tolist()\n",
    "sentence_model = SentenceTransformer(\"all-MiniLM-L6-v2\")"
   ]
  },
  {
   "cell_type": "code",
   "execution_count": null,
   "id": "5104c796-4e88-4da7-bea1-e401d6b1c5a4",
   "metadata": {},
   "outputs": [],
   "source": [
    "vectorizer = CountVectorizer(stop_words=\"english\", \n",
    "                             min_df=6,\n",
    "                             ngram_range=(1, 2))\n",
    "topic_model = BERTopic(\n",
    "    embedding_model=sentence_model,\n",
    "    vectorizer_model=vectorizer,\n",
    "    nr_topics=\"auto\",\n",
    "    verbose=True\n",
    ")\n",
    "topics, probs = topic_model.fit_transform(docs)\n"
   ]
  },
  {
   "cell_type": "code",
   "execution_count": null,
   "id": "49450591-8a41-48a1-b32f-37e425079eff",
   "metadata": {},
   "outputs": [],
   "source": [
    "df_clean['bertopic'] = topics"
   ]
  },
  {
   "cell_type": "code",
   "execution_count": null,
   "id": "a57ac439-98bb-4c2f-861f-c46b2c0a18a7",
   "metadata": {},
   "outputs": [],
   "source": [
    "topic_info = topic_model.get_topic_info()\n",
    "print(topic_info.head(10))"
   ]
  },
  {
   "cell_type": "code",
   "execution_count": null,
   "id": "b7a71b3c-bee4-4a9a-927c-69f1e542e49a",
   "metadata": {},
   "outputs": [],
   "source": [
    "topic_info.info()"
   ]
  },
  {
   "cell_type": "code",
   "execution_count": null,
   "id": "72a029d7-1307-4df6-b99c-55deba5949f6",
   "metadata": {},
   "outputs": [],
   "source": [
    "topic_model.visualize_topics()"
   ]
  },
  {
   "cell_type": "code",
   "execution_count": null,
   "id": "96aa48c9-7c67-49eb-a4ee-98b86b2b13c7",
   "metadata": {},
   "outputs": [],
   "source": [
    "import pandas as pd\n",
    "df_topics_over_time = pd.DataFrame({\n",
    "    \"Document\": docs,\n",
    "    \"Topic\": topics,\n",
    "    \"Timestamp\": df_clean['year'].astype(int)\n",
    "})"
   ]
  },
  {
   "cell_type": "code",
   "execution_count": null,
   "id": "ea249b6f-6275-4515-a3b3-573fe3bffce9",
   "metadata": {},
   "outputs": [],
   "source": [
    "docs = df_clean['cleaned_text'].tolist()\n",
    "topics, probs = topic_model.fit_transform(docs)\n",
    "years = df_clean['year'].astype(int).tolist()\n",
    "\n",
    "print(f\"Nombre de documents : {len(docs)}\")\n",
    "print(f\"Nombre de topics : {len(topics)}\")\n",
    "print(f\"Nombre d'années : {len(years)}\")\n",
    "\n",
    "if len(docs) == len(topics) == len(years):\n",
    "    topics_over_time = topic_model.topics_over_time(docs, years, topics)\n",
    "else:\n",
    "    print(\"Les listes ne sont pas de la même longueur !\")\n",
    "    raise ValueError(\"docs, topics et years doivent être de même longueur pour topics_over_time.\")"
   ]
  },
  {
   "cell_type": "code",
   "execution_count": null,
   "id": "f10c77cf-bbdb-45a0-95ff-fb07a4ae75f6",
   "metadata": {},
   "outputs": [],
   "source": [
    "topics_over_time"
   ]
  },
  {
   "cell_type": "code",
   "execution_count": null,
   "id": "b7212e67-f246-4b02-808e-464edef62382",
   "metadata": {},
   "outputs": [],
   "source": [
    "fig = topic_model.visualize_topics_over_time(\n",
    "    topics_over_time,\n",
    "    top_n_topics=10,             # Afficher les 10 premiers topics\n",
    "    normalize_frequency=True      # Normaliser pour éviter les biais liés au nombre d'articles par année\n",
    ")\n",
    "fig.show()"
   ]
  },
  {
   "cell_type": "code",
   "execution_count": null,
   "id": "fec3508d-65f8-4cd6-adb0-bcc89fc477a2",
   "metadata": {},
   "outputs": [],
   "source": [
    "cross_table = pd.crosstab(df_clean['bertopic'], df_clean['kmeans_cluster'])\n",
    "print(\"\\nBERTopic vs KMeans clusters:\")\n",
    "print(cross_table)"
   ]
  },
  {
   "cell_type": "code",
   "execution_count": null,
   "id": "86fdff93-be84-4db0-89f6-36391acd2f8f",
   "metadata": {},
   "outputs": [],
   "source": [
    "topic_model.save(\"models/bertopic_model\")\n",
    "df_clean.to_csv(\"preprocessing/processed_data_with_bertopic.csv\", index=False)"
   ]
  },
  {
   "cell_type": "markdown",
   "id": "8084cfb3-cb4b-4b41-b5cf-9932a9e9826f",
   "metadata": {},
   "source": [
    "## Clustering - KMeans"
   ]
  },
  {
   "cell_type": "markdown",
   "id": "58969823-6b7f-441e-8159-81f5f6a22833",
   "metadata": {},
   "source": [
    "### Determining the optimal k using the Silhouette score"
   ]
  },
  {
   "cell_type": "code",
   "execution_count": null,
   "id": "9ea3cec1-47ca-45d6-8c92-36621ae3e7b6",
   "metadata": {},
   "outputs": [],
   "source": [
    "import pandas as pd\n",
    "import numpy as np\n",
    "import matplotlib.pyplot as plt\n",
    "from sklearn.cluster import KMeans\n",
    "import umap\n",
    "from sklearn.metrics import silhouette_score\n",
    "import seaborn as sns\n",
    "\n",
    "\n",
    "df = pd.read_csv(\"preprocessing/processed_generative_ai_data.csv\")\n",
    "X_reduced = np.load('X_reduced.npy')\n",
    "\n",
    "\n",
    "silhouette_scores = []\n",
    "range_clusters = range(2, 15)\n",
    "\n",
    "for n_clusters in range_clusters:\n",
    "    kmeans = KMeans(n_clusters=n_clusters, random_state=42, n_init=10)\n",
    "    cluster_labels = kmeans.fit_predict(X_reduced)\n",
    "    score = silhouette_score(X_reduced, cluster_labels)\n",
    "    silhouette_scores.append(score)\n",
    "    print(f\"Silhouette score for {n_clusters} clusters: {score:.3f}\")"
   ]
  },
  {
   "cell_type": "code",
   "execution_count": null,
   "id": "813b1ebf-5e9c-4b7f-893a-a8e027a24a14",
   "metadata": {},
   "outputs": [],
   "source": [
    "plt.figure(figsize=(10, 6))\n",
    "plt.plot(range_clusters, silhouette_scores, 'o-')\n",
    "plt.xlabel('Nombre de Clusters')\n",
    "plt.ylabel('Silhouette Score')\n",
    "plt.title('Analyse de Silhouette Score pour KMeans Clustering')\n",
    "plt.grid(True)\n",
    "plt.show()"
   ]
  },
  {
   "cell_type": "code",
   "execution_count": null,
   "id": "c8ebea40-3e6c-4030-9be2-54a9ce884ce1",
   "metadata": {},
   "outputs": [],
   "source": [
    "optimal_clusters = range_clusters[np.argmax(silhouette_scores)]\n",
    "print(f\"Valeur Optimale de clusters: {optimal_clusters}\")"
   ]
  },
  {
   "cell_type": "code",
   "execution_count": null,
   "id": "f9671274-0282-4a92-b092-9f7f68fa1b41",
   "metadata": {},
   "outputs": [],
   "source": [
    "kmeans = KMeans(n_clusters=optimal_clusters, random_state=42, n_init=10)\n",
    "df['kmeans_cluster'] = kmeans.fit_predict(X_reduced)"
   ]
  },
  {
   "cell_type": "markdown",
   "id": "e4cc2c43-dd48-4e4b-9ba5-5a75d53b66ce",
   "metadata": {},
   "source": [
    "## 2D Visualization with UMAP"
   ]
  },
  {
   "cell_type": "code",
   "execution_count": null,
   "id": "84ccd239-cf8a-480e-8215-1892569a8aa9",
   "metadata": {},
   "outputs": [],
   "source": [
    "reducer = umap.UMAP(random_state=42)\n",
    "umap_embedding = reducer.fit_transform(X_reduced)"
   ]
  },
  {
   "cell_type": "code",
   "execution_count": null,
   "id": "8ae4ebda-7faf-41b9-a27b-d3ed03550149",
   "metadata": {},
   "outputs": [],
   "source": [
    "plt.figure(figsize=(14, 10))\n",
    "sns.scatterplot(x=umap_embedding[:, 0], y=umap_embedding[:, 1], \n",
    "                hue=df['kmeans_cluster'], palette='viridis', \n",
    "                legend='full', alpha=0.7, s=40)\n",
    "plt.title(f'KMeans Clustering with {optimal_clusters} Clusters (UMAP Visualization)')\n",
    "plt.colorbar(label='Cluster')\n",
    "plt.tight_layout()\n",
    "plt.show()"
   ]
  },
  {
   "cell_type": "code",
   "execution_count": null,
   "id": "5b2b9725-232a-4e88-a151-e95e240a7363",
   "metadata": {},
   "outputs": [],
   "source": [
    "cluster_counts = df['kmeans_cluster'].value_counts().sort_index()\n",
    "print(\"Taille du cluster:\")\n",
    "print(cluster_counts)"
   ]
  },
  {
   "cell_type": "code",
   "execution_count": null,
   "id": "1ef18b53-0a54-4848-a39d-0034ea4ed6c2",
   "metadata": {},
   "outputs": [],
   "source": [
    "df.to_csv(\"preprocessing/processed_generative_ai_data_with_kmeans.csv\", index=False)"
   ]
  }
 ],
 "metadata": {
  "kernelspec": {
   "display_name": "Python 3 (ipykernel)",
   "language": "python",
   "name": "python3"
  },
  "language_info": {
   "codemirror_mode": {
    "name": "ipython",
    "version": 3
   },
   "file_extension": ".py",
   "mimetype": "text/x-python",
   "name": "python",
   "nbconvert_exporter": "python",
   "pygments_lexer": "ipython3",
   "version": "3.12.4"
  }
 },
 "nbformat": 4,
 "nbformat_minor": 5
}
