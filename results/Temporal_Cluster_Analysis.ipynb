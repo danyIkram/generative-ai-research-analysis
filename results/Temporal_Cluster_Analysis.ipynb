{
 "cells": [
  {
   "cell_type": "markdown",
   "id": "fd5e506e-9b5c-4f7d-9470-3defa6dbe197",
   "metadata": {},
   "source": [
    "# Temporal Cluster analysis"
   ]
  },
  {
   "cell_type": "code",
   "execution_count": null,
   "id": "8a29f4fc-37fe-46d5-9ea7-afc6921bebfa",
   "metadata": {},
   "outputs": [],
   "source": [
    "plt.figure(figsize=(12, 8))\n",
    "cluster_by_year = pd.crosstab(df['year'], df['kmeans_cluster'])\n",
    "cluster_by_year_norm = cluster_by_year.div(cluster_by_year.sum(axis=1), axis=0)\n",
    "cluster_by_year_norm.plot(kind='bar', stacked=True, colormap='viridis')\n",
    "plt.title(\"Distribution des Clusters KMeans par Année\")\n",
    "plt.xlabel(\"Année\")\n",
    "plt.ylabel(\"Proportion\")\n",
    "plt.legend(title=\"Cluster\")\n",
    "plt.grid(axis='y')\n",
    "plt.tight_layout()\n",
    "plt.show()"
   ]
  },
  {
   "cell_type": "code",
   "execution_count": null,
   "id": "c0609ec7-432d-4d9b-80e5-5b4367239bd1",
   "metadata": {},
   "outputs": [],
   "source": []
  }
 ],
 "metadata": {
  "kernelspec": {
   "display_name": "Python 3 (ipykernel)",
   "language": "python",
   "name": "python3"
  },
  "language_info": {
   "codemirror_mode": {
    "name": "ipython",
    "version": 3
   },
   "file_extension": ".py",
   "mimetype": "text/x-python",
   "name": "python",
   "nbconvert_exporter": "python",
   "pygments_lexer": "ipython3",
   "version": "3.12.4"
  }
 },
 "nbformat": 4,
 "nbformat_minor": 5
}
