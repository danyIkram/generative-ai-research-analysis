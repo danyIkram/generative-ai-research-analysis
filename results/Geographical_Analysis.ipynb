{
 "cells": [
  {
   "cell_type": "markdown",
   "id": "73ffbbde-17e5-421a-aa6a-bbb8b63ebeb5",
   "metadata": {},
   "source": [
    "# Geographical Analysis"
   ]
  },
  {
   "cell_type": "code",
   "execution_count": null,
   "id": "16f53be9-285a-4430-a662-f8683019bd5f",
   "metadata": {},
   "outputs": [],
   "source": [
    "import pandas as pd\n",
    "import matplotlib.pyplot as plt\n",
    "import seaborn as sns\n",
    "import numpy as np\n",
    "import plotly.express as px\n",
    "import plotly.graph_objects as go\n",
    "from collections import Counter\n",
    "import re\n",
    "import networkx as nx\n",
    "from wordcloud import WordCloud\n",
    "\n",
    "df = pd.read_csv(\"preprocessing/processed_generative_ai_data_with_kmeans.csv\")\n",
    "\n",
    "def extract_countries(country_str):\n",
    "    if pd.isna(country_str) or country_str == '':\n",
    "        return []\n",
    "    return [c.strip() for c in str(country_str).split(';') if c.strip() != '']\n",
    "\n",
    "\n",
    "all_countries = []\n",
    "for countries in df['countries'].dropna():\n",
    "    all_countries.extend(extract_countries(countries))\n",
    "\n",
    "\n",
    "country_counts = Counter(all_countries).most_common(15)\n",
    "country_df = pd.DataFrame(country_counts, columns=['country', 'count'])\n",
    "\n",
    "\n",
    "country_code_to_name = {\n",
    "    'US': 'United States', 'CN': 'China', 'GB': 'United Kingdom', 'DE': 'Germany',\n",
    "    'AU': 'Australia', 'CA': 'Canada', 'FR': 'France', 'IT': 'Italy',\n",
    "    'IN': 'India', 'CH': 'Switzerland', 'JP': 'Japan', 'NL': 'Netherlands',\n",
    "    'ES': 'Spain', 'KR': 'South Korea', 'SG': 'Singapore', 'SE': 'Sweden',\n",
    "     'BR': 'Brazil', 'TW': 'Taiwan', 'BE': 'Belgium'\n",
    "}\n",
    "\n",
    "country_df['country_name'] = country_df['country'].map(country_code_to_name)"
   ]
  },
  {
   "cell_type": "markdown",
   "id": "7e1c28f5-5013-4b79-a418-9f7de0e48d9c",
   "metadata": {},
   "source": [
    "## Top 15 contributing countries"
   ]
  },
  {
   "cell_type": "code",
   "execution_count": null,
   "id": "3da26573-0ab7-4c30-8970-46df1a57e144",
   "metadata": {},
   "outputs": [],
   "source": [
    "plt.figure(figsize=(12, 8))\n",
    "sns.barplot(x='count', y='country_name', data=country_df, palette='viridis')\n",
    "plt.title('Les 15 Pays les plus contribuants en recherches sur IA générative', fontsize=16)\n",
    "plt.xlabel(\"Nombre d'articles\", fontsize=14)\n",
    "plt.ylabel('Pays', fontsize=14)\n",
    "plt.tight_layout()\n",
    "plt.savefig('figures/top_countries_bar.png')\n",
    "plt.show()"
   ]
  },
  {
   "cell_type": "code",
   "execution_count": null,
   "id": "539a4746-6c8d-42ca-855b-7421d738a0d2",
   "metadata": {},
   "outputs": [],
   "source": [
    "fig = px.choropleth(country_df, \n",
    "                    locations='country', \n",
    "                    locationmode='ISO-3',\n",
    "                    color='count', \n",
    "                    hover_name='country_name',\n",
    "                    color_continuous_scale='Viridis',\n",
    "                    title='Distribution globale des recherches en IA générative')\n",
    "fig.write_html('figures/world_map_research.html')"
   ]
  },
  {
   "cell_type": "code",
   "execution_count": null,
   "id": "03495bcb-e675-4d54-9f37-09cd3a7e6d6b",
   "metadata": {},
   "outputs": [],
   "source": [
    "country_year_data = []\n",
    "for _, row in df.dropna(subset=['countries', 'year']).iterrows():\n",
    "    year = int(row['year'])\n",
    "    countries = extract_countries(row['countries'])\n",
    "    for country in countries:\n",
    "        country_year_data.append({'year': year, 'country': country})\n",
    "\n",
    "country_year_df = pd.DataFrame(country_year_data)"
   ]
  },
  {
   "cell_type": "markdown",
   "id": "6e797d50-ce20-4137-9101-ef417202c866",
   "metadata": {},
   "source": [
    "## 5 Top Countries"
   ]
  },
  {
   "cell_type": "code",
   "execution_count": null,
   "id": "017cc3fb-d9c9-460a-86cd-d866af9a7189",
   "metadata": {},
   "outputs": [],
   "source": [
    "top5_countries = [c[0] for c in Counter(all_countries).most_common(5)]\n",
    "top5_country_year = country_year_df[country_year_df['country'].isin(top5_countries)]"
   ]
  },
  {
   "cell_type": "code",
   "execution_count": null,
   "id": "63b7d53c-3592-462c-98c0-d723185ad5ed",
   "metadata": {},
   "outputs": [],
   "source": [
    "plt.figure(figsize=(12, 8))\n",
    "country_counts_by_year = pd.crosstab(top5_country_year['year'], top5_country_year['country'])\n",
    "country_counts_by_year.plot(kind='line', marker='o', linewidth=2.5)\n",
    "plt.title('Les tendances de recherches des Top 5 pays (2019-2024)', fontsize=16)\n",
    "plt.xlabel('année', fontsize=14)\n",
    "plt.ylabel('Nombre d\\'articles', fontsize=14)\n",
    "plt.grid(True, linestyle='--', alpha=0.7)\n",
    "plt.legend(title='Country')\n",
    "plt.xticks(range(2019, 2025))\n",
    "plt.tight_layout()\n",
    "plt.savefig('figures/country_trends.png')\n",
    "plt.show()"
   ]
  }
 ],
 "metadata": {
  "kernelspec": {
   "display_name": "Python 3 (ipykernel)",
   "language": "python",
   "name": "python3"
  },
  "language_info": {
   "codemirror_mode": {
    "name": "ipython",
    "version": 3
   },
   "file_extension": ".py",
   "mimetype": "text/x-python",
   "name": "python",
   "nbconvert_exporter": "python",
   "pygments_lexer": "ipython3",
   "version": "3.12.4"
  }
 },
 "nbformat": 4,
 "nbformat_minor": 5
}
