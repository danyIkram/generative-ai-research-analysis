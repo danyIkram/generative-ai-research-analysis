{
 "cells": [
  {
   "cell_type": "markdown",
   "id": "6c08bb30-b0cb-4502-a2c2-c30ff3619147",
   "metadata": {},
   "source": [
    "# TF-IDF vectorization"
   ]
  },
  {
   "cell_type": "code",
   "execution_count": null,
   "id": "873d50c3-caa8-4dd2-9c61-f485a81d46cc",
   "metadata": {},
   "outputs": [],
   "source": [
    "from sklearn.feature_extraction.text import TfidfVectorizer\n",
    "\n",
    "tfidf_vectorizer = TfidfVectorizer(\n",
    "    max_df=0.85,\n",
    "    min_df=2,\n",
    "    stop_words='english',\n",
    "    lowercase=True,\n",
    "    max_features=10000\n",
    ")\n",
    "\n",
    "tfidf_matrix = tfidf_vectorizer.fit_transform(df['cleaned_text'])\n",
    "\n",
    "print(f\"Matrice TF-IDF créée : {tfidf_matrix.shape[0]} documents × {tfidf_matrix.shape[1]} termes\")"
   ]
  },
  {
   "cell_type": "code",
   "execution_count": null,
   "id": "23b7e630-c210-4885-9900-426dcd4eaa16",
   "metadata": {},
   "outputs": [],
   "source": [
    "feature_names = tfidf_vectorizer.get_feature_names_out()\n",
    "mean_tfidf = tfidf_matrix.mean(axis=0).A1\n",
    "top_indices = mean_tfidf.argsort()[-10:][::-1]\n",
    "top_words = [feature_names[i] for i in top_indices]\n",
    "print(\"Les mots les plus fréquents et informatifs dans tout le corpus sont : \")\n",
    "top_words"
   ]
  },
  {
   "cell_type": "code",
   "execution_count": null,
   "id": "4accbe9b-b617-4dc3-ac57-e913c9b0011e",
   "metadata": {},
   "outputs": [],
   "source": [
    "import pickle\n",
    "\n",
    "with open('TFIDF/tfidf_matrix.pkl', 'wb') as f:\n",
    "    pickle.dump(tfidf_matrix, f)\n",
    "\n",
    "with open('TFIDF/tfidf_vectorizer.pkl', 'wb') as f:\n",
    "    pickle.dump(tfidf_vectorizer, f)\n",
    "\n",
    "print(\"Matrice TF-IDF et vectoriseur sauvegardés.\")"
   ]
  }
 ],
 "metadata": {
  "kernelspec": {
   "display_name": "Python 3 (ipykernel)",
   "language": "python",
   "name": "python3"
  },
  "language_info": {
   "codemirror_mode": {
    "name": "ipython",
    "version": 3
   },
   "file_extension": ".py",
   "mimetype": "text/x-python",
   "name": "python",
   "nbconvert_exporter": "python",
   "pygments_lexer": "ipython3",
   "version": "3.12.4"
  }
 },
 "nbformat": 4,
 "nbformat_minor": 5
}
