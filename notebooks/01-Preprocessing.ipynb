{
 "cells": [
  {
   "cell_type": "markdown",
   "id": "af8cb431-3e9c-4840-8929-9244fd60963a",
   "metadata": {},
   "source": [
    "# Preprocessing"
   ]
  },
  {
   "cell_type": "code",
   "execution_count": null,
   "id": "9e942034-8d56-4286-aa66-edb789fe256e",
   "metadata": {},
   "outputs": [],
   "source": [
    "import nltk\n",
    "nltk.download('punkt')\n",
    "nltk.download('wordnet')\n",
    "nltk.download('stopwords')"
   ]
  },
  {
   "cell_type": "code",
   "execution_count": null,
   "id": "7a52a41a-9c06-4868-8021-08d9769fdfa7",
   "metadata": {},
   "outputs": [],
   "source": [
    "import re\n",
    "import nltk\n",
    "from nltk.corpus import stopwords\n",
    "from nltk.stem import WordNetLemmatizer\n",
    "from nltk.tokenize import word_tokenize\n",
    "\n",
    "lemmatizer = WordNetLemmatizer()\n",
    "STOP_WORDS = set(stopwords.words('english'))\n",
    "\n",
    "def preprocess_text(text):\n",
    "    if not isinstance(text, str) or text.strip() == '':\n",
    "        return ''\n",
    "    \n",
    "    text = text.lower()\n",
    "    text = re.sub(r'https?://\\S+|www\\.\\S+', '', text)\n",
    "    text = re.sub(r'\\S+@\\S+', '', text)\n",
    "    text = re.sub(r'\\d+', '', text)\n",
    "    text = re.sub(r'[^\\w\\s]', ' ', text)\n",
    "    tokens = word_tokenize(text)\n",
    "    \n",
    "    cleaned_tokens = [\n",
    "        lemmatizer.lemmatize(token) for token in tokens\n",
    "        if token not in STOP_WORDS and token.isalpha() and len(token) > 2\n",
    "    ]\n",
    "    \n",
    "    return ' '.join(cleaned_tokens)"
   ]
  },
  {
   "cell_type": "code",
   "execution_count": null,
   "id": "1ff6143c-0a75-4003-b812-96624deccf5c",
   "metadata": {},
   "outputs": [],
   "source": [
    "import pandas as pd\n",
    "\n",
    "df = pd.read_csv(\"data/merged_generative_ai_data_20250516.csv\")\n",
    "\n",
    "print(\"Prétraitement des titres...\")\n",
    "df['cleaned_title'] = df['title'].apply(preprocess_text)\n",
    "\n",
    "\n",
    "print(\"Prétraitement des résumés...\")\n",
    "df['cleaned_abstract'] = df['abstract'].apply(preprocess_text)\n",
    "\n",
    "df['cleaned_text'] = df['cleaned_title'] + \" \" + df['cleaned_abstract']\n",
    "\n",
    "df.to_csv(\"preprocessing/processed_generative_ai_data.csv\", index=False)\n",
    "\n",
    "print(\"Prétraitement terminé et sauvegardé dans 'processed_generative_ai_data.csv'\")"
   ]
  },
  {
   "cell_type": "code",
   "execution_count": null,
   "id": "e2caa7b9-18ca-498c-af6c-7d5ecf69b52f",
   "metadata": {},
   "outputs": [],
   "source": [
    "import pandas as pd\n",
    "df = pd.read_csv(\"preprocessing/processed_generative_ai_data.csv\")\n",
    "df.isnull().sum()"
   ]
  }
 ],
 "metadata": {
  "kernelspec": {
   "display_name": "Python 3 (ipykernel)",
   "language": "python",
   "name": "python3"
  },
  "language_info": {
   "codemirror_mode": {
    "name": "ipython",
    "version": 3
   },
   "file_extension": ".py",
   "mimetype": "text/x-python",
   "name": "python",
   "nbconvert_exporter": "python",
   "pygments_lexer": "ipython3",
   "version": "3.12.4"
  }
 },
 "nbformat": 4,
 "nbformat_minor": 5
}
