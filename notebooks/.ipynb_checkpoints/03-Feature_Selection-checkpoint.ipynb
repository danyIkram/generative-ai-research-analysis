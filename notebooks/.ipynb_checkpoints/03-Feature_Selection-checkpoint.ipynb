{
 "cells": [
  {
   "cell_type": "markdown",
   "id": "2467870a-6ee5-4d11-bf2a-5431173ab78c",
   "metadata": {},
   "source": [
    "# Feature Selection"
   ]
  },
  {
   "cell_type": "markdown",
   "id": "0a400174-3147-421e-b536-0dda06a28899",
   "metadata": {},
   "source": [
    "## Variance Threshold"
   ]
  },
  {
   "cell_type": "code",
   "execution_count": null,
   "id": "4431ce4e-7e3a-4eb7-b85f-de69a984a8c2",
   "metadata": {},
   "outputs": [],
   "source": [
    "from sklearn.feature_selection import VarianceThreshold\n",
    "\n",
    "selector = VarianceThreshold(threshold=0.0001)\n",
    "X_sel = selector.fit_transform(tfidf_matrix)"
   ]
  },
  {
   "cell_type": "code",
   "execution_count": null,
   "id": "f755075f-5767-4fc4-85d7-088684552dd0",
   "metadata": {},
   "outputs": [],
   "source": [
    "X_sel.shape"
   ]
  },
  {
   "cell_type": "markdown",
   "id": "4b167999-96fa-4f5a-b368-8b29fbfd96ea",
   "metadata": {},
   "source": [
    "## Truncated SVD"
   ]
  },
  {
   "cell_type": "code",
   "execution_count": null,
   "id": "b837f84f-b6a6-4921-b1a9-9bd77c18d3f0",
   "metadata": {},
   "outputs": [],
   "source": [
    "from sklearn.decomposition import TruncatedSVD\n",
    "\n",
    "svd = TruncatedSVD(n_components=300, random_state=42)\n",
    "X_reduced = svd.fit_transform(X_sel)"
   ]
  },
  {
   "cell_type": "code",
   "execution_count": null,
   "id": "7a52a41a-9c06-4868-8021-08d9769fdfa7",
   "metadata": {},
   "outputs": [],
   "source": [
    "X_reduced.shape"
   ]
  },
  {
   "cell_type": "code",
   "execution_count": null,
   "id": "1ff6143c-0a75-4003-b812-96624deccf5c",
   "metadata": {},
   "outputs": [],
   "source": [
    "#Afin de choisir le bon nombre de composantes, on va tracer la courbe de la variance expliquée cumulée\n",
    "\n",
    "from sklearn.decomposition import TruncatedSVD\n",
    "import numpy as np\n",
    "import matplotlib.pyplot as plt\n",
    "\n",
    "\n",
    "cumulative_variance = np.cumsum(svd.explained_variance_ratio_)\n",
    "plt.plot(cumulative_variance)\n",
    "plt.xlabel(\"Nombre de composantes\")\n",
    "plt.ylabel(\"Variance expliquée cumulée\")\n",
    "plt.grid(True)\n",
    "plt.title(\"Variance expliquée par TruncatedSVD\")\n",
    "plt.show()"
   ]
  },
  {
   "cell_type": "markdown",
   "id": "581b170d-3869-47a5-9ef7-f8e4fa1af507",
   "metadata": {},
   "source": [
    "# Model saving"
   ]
  },
  {
   "cell_type": "code",
   "execution_count": null,
   "id": "1703a907-1367-48ce-944f-d89f0c2db0bc",
   "metadata": {},
   "outputs": [],
   "source": [
    "import pickle\n",
    "import numpy as np\n",
    "\n",
    "with open('variance_selector.pkl', 'wb') as f:\n",
    "    pickle.dump(selector, f)\n",
    "\n",
    "with open('truncated_svd_model.pkl', 'wb') as f:\n",
    "    pickle.dump(svd, f)\n",
    "\n",
    "np.save('X_reduced.npy', X_reduced)\n",
    "print(\"Modèles et données sauvegardés.\")"
   ]
  }
 ],
 "metadata": {
  "kernelspec": {
   "display_name": "Python 3 (ipykernel)",
   "language": "python",
   "name": "python3"
  },
  "language_info": {
   "codemirror_mode": {
    "name": "ipython",
    "version": 3
   },
   "file_extension": ".py",
   "mimetype": "text/x-python",
   "name": "python",
   "nbconvert_exporter": "python",
   "pygments_lexer": "ipython3",
   "version": "3.12.4"
  }
 },
 "nbformat": 4,
 "nbformat_minor": 5
}
